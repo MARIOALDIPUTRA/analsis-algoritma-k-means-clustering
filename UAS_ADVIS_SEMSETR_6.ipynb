{
  "metadata": {
    "kernelspec": {
      "display_name": "Python 3",
      "language": "python",
      "name": "python3"
    },
    "language_info": {
      "name": "python",
      "version": "3.6.6",
      "mimetype": "text/x-python",
      "codemirror_mode": {
        "name": "ipython",
        "version": 3
      },
      "pygments_lexer": "ipython3",
      "nbconvert_exporter": "python",
      "file_extension": ".py"
    },
    "colab": {
      "name": "UAS ADVIS SEMSETR 6.ipynb",
      "provenance": [],
      "collapsed_sections": [
        "J37lq1uOmf5U",
        "s_6OqTB3mf5Y",
        "hebdO1Zfmf5a",
        "Rfe2ugWDmf5c",
        "3mUghTbhmf5f",
        "iNMdY4ilmf5h"
      ]
    }
  },
  "nbformat_minor": 0,
  "nbformat": 4,
  "cells": [
    {
      "cell_type": "markdown",
      "source": [
        "\n",
        "\n",
        "```\n",
        "# This is formatted as code\n",
        "```\n",
        "\n",
        "# Bank Customer Clustering"
      ],
      "metadata": {
        "_uuid": "3ba2626c0fe2489c3276cbcbf798ddba6ef560d4",
        "id": "BFpLkiudmf4q"
      }
    },
    {
      "cell_type": "markdown",
      "source": [
        "## K-Mode Clustering"
      ],
      "metadata": {
        "_uuid": "060867558cd26d8cff9affe07a6ab653f38b9900",
        "id": "8hHYgh6jmf43"
      }
    },
    {
      "cell_type": "markdown",
      "source": [
        ""
      ],
      "metadata": {
        "id": "SIZF_WEFmf44"
      }
    },
    {
      "cell_type": "markdown",
      "source": [
        "### Problem Statement\n",
        "\n",
        "The data is related with direct marketing campaigns of a Portuguese banking institution.\n",
        "Cluster customers on the basis of attributes.\n",
        "\n",
        "Note: This python demonstration is for understanding the use of K-Modes clustering algorithm.\n",
        "\n",
        "### Data\n",
        "Only Categorical attributes of Bank Marketing Data Set(UCI Repository: <https://archive.ics.uci.edu/ml/datasets/bank+marketing>) are used for demonstration."
      ],
      "metadata": {
        "_uuid": "c8bf4a40ac2c40cef81b074359c9411c517b1683",
        "id": "9GJxCna1mf45"
      }
    },
    {
      "cell_type": "markdown",
      "source": [
        "**Attribute Information(Categorical):**\n",
        "\n",
        "- age (numeric)\n",
        "- job : type of job (categorical: 'admin.','blue-collar','entrepreneur','housemaid','management','retired','self-employed','services','student','technician','unemployed','unknown')\n",
        "- marital : marital status (categorical: 'divorced','married','single','unknown'; note: 'divorced' means divorced or widowed)\n",
        "- education (categorical: 'basic.4y','basic.6y','basic.9y','high.school','illiterate','professional.course','university.degree','unknown')\n",
        "- default: has credit in default? (categorical: 'no','yes','unknown')\n",
        "- housing: has housing loan? (categorical: 'no','yes','unknown')\n",
        "- loan: has personal loan? (categorical: 'no','yes','unknown')\n",
        "- contact: contact communication type (categorical: 'cellular','telephone') \n",
        "- month: last contact month of year (categorical: 'jan', 'feb', 'mar', ..., 'nov', 'dec')\n",
        "- day_of_week: last contact day of the week (categorical: 'mon','tue','wed','thu','fri')\n",
        "- poutcome: outcome of the previous marketing campaign (categorical: 'failure','nonexistent','success')\n",
        "- UCI Repository: <https://archive.ics.uci.edu/ml/datasets/bank+marketing>"
      ],
      "metadata": {
        "_uuid": "a5ca4c82ec355cd8ed5abc1f50ba5518e6cc30c5",
        "id": "frBrBAz_mf48"
      }
    },
    {
      "cell_type": "code",
      "source": [
        "# supress warnings\n",
        "import warnings\n",
        "warnings.filterwarnings('ignore')\n",
        "\n",
        "# Importing all required packages\n",
        "import numpy as np\n",
        "import pandas as pd\n",
        "\n",
        "# Data viz lib\n",
        "import matplotlib.pyplot as plt\n",
        "import seaborn as sns\n",
        "%matplotlib inline\n",
        "from matplotlib.pyplot import xticks"
      ],
      "metadata": {
        "_uuid": "0893c9adcebb6ccec74e57b665988919f6fc7b3c",
        "trusted": true,
        "id": "WUWKJPlhmf4-"
      },
      "execution_count": null,
      "outputs": []
    },
    {
      "cell_type": "markdown",
      "source": [
        "## Data Reading and Understading"
      ],
      "metadata": {
        "_uuid": "9eea57adb77ab947786e94ee0f4f067807356214",
        "id": "vdNgje38mf5D"
      }
    },
    {
      "cell_type": "code",
      "source": [
        "bank = pd.read_csv('bankmarketing.csv')\n"
      ],
      "metadata": {
        "_uuid": "2f2fa19f47cfe6f4136a40a4b8f539438fa22bc4",
        "trusted": true,
        "id": "7VP_nST5mf5G",
        "colab": {
          "base_uri": "https://localhost:8080/",
          "height": 311
        },
        "outputId": "3f9593b1-7d58-45b2-c33b-ece46c3e3767"
      },
      "execution_count": null,
      "outputs": [
        {
          "output_type": "error",
          "ename": "FileNotFoundError",
          "evalue": "ignored",
          "traceback": [
            "\u001b[0;31m---------------------------------------------------------------------------\u001b[0m",
            "\u001b[0;31mFileNotFoundError\u001b[0m                         Traceback (most recent call last)",
            "\u001b[0;32m<ipython-input-2-65ff65548f92>\u001b[0m in \u001b[0;36m<module>\u001b[0;34m()\u001b[0m\n\u001b[0;32m----> 1\u001b[0;31m \u001b[0mbank\u001b[0m \u001b[0;34m=\u001b[0m \u001b[0mpd\u001b[0m\u001b[0;34m.\u001b[0m\u001b[0mread_csv\u001b[0m\u001b[0;34m(\u001b[0m\u001b[0;34m'bankmarketing.csv'\u001b[0m\u001b[0;34m)\u001b[0m\u001b[0;34m\u001b[0m\u001b[0;34m\u001b[0m\u001b[0m\n\u001b[0m",
            "\u001b[0;32m/usr/local/lib/python3.7/dist-packages/pandas/util/_decorators.py\u001b[0m in \u001b[0;36mwrapper\u001b[0;34m(*args, **kwargs)\u001b[0m\n\u001b[1;32m    309\u001b[0m                     \u001b[0mstacklevel\u001b[0m\u001b[0;34m=\u001b[0m\u001b[0mstacklevel\u001b[0m\u001b[0;34m,\u001b[0m\u001b[0;34m\u001b[0m\u001b[0;34m\u001b[0m\u001b[0m\n\u001b[1;32m    310\u001b[0m                 )\n\u001b[0;32m--> 311\u001b[0;31m             \u001b[0;32mreturn\u001b[0m \u001b[0mfunc\u001b[0m\u001b[0;34m(\u001b[0m\u001b[0;34m*\u001b[0m\u001b[0margs\u001b[0m\u001b[0;34m,\u001b[0m \u001b[0;34m**\u001b[0m\u001b[0mkwargs\u001b[0m\u001b[0;34m)\u001b[0m\u001b[0;34m\u001b[0m\u001b[0;34m\u001b[0m\u001b[0m\n\u001b[0m\u001b[1;32m    312\u001b[0m \u001b[0;34m\u001b[0m\u001b[0m\n\u001b[1;32m    313\u001b[0m         \u001b[0;32mreturn\u001b[0m \u001b[0mwrapper\u001b[0m\u001b[0;34m\u001b[0m\u001b[0;34m\u001b[0m\u001b[0m\n",
            "\u001b[0;32m/usr/local/lib/python3.7/dist-packages/pandas/io/parsers/readers.py\u001b[0m in \u001b[0;36mread_csv\u001b[0;34m(filepath_or_buffer, sep, delimiter, header, names, index_col, usecols, squeeze, prefix, mangle_dupe_cols, dtype, engine, converters, true_values, false_values, skipinitialspace, skiprows, skipfooter, nrows, na_values, keep_default_na, na_filter, verbose, skip_blank_lines, parse_dates, infer_datetime_format, keep_date_col, date_parser, dayfirst, cache_dates, iterator, chunksize, compression, thousands, decimal, lineterminator, quotechar, quoting, doublequote, escapechar, comment, encoding, encoding_errors, dialect, error_bad_lines, warn_bad_lines, on_bad_lines, delim_whitespace, low_memory, memory_map, float_precision, storage_options)\u001b[0m\n\u001b[1;32m    584\u001b[0m     \u001b[0mkwds\u001b[0m\u001b[0;34m.\u001b[0m\u001b[0mupdate\u001b[0m\u001b[0;34m(\u001b[0m\u001b[0mkwds_defaults\u001b[0m\u001b[0;34m)\u001b[0m\u001b[0;34m\u001b[0m\u001b[0;34m\u001b[0m\u001b[0m\n\u001b[1;32m    585\u001b[0m \u001b[0;34m\u001b[0m\u001b[0m\n\u001b[0;32m--> 586\u001b[0;31m     \u001b[0;32mreturn\u001b[0m \u001b[0m_read\u001b[0m\u001b[0;34m(\u001b[0m\u001b[0mfilepath_or_buffer\u001b[0m\u001b[0;34m,\u001b[0m \u001b[0mkwds\u001b[0m\u001b[0;34m)\u001b[0m\u001b[0;34m\u001b[0m\u001b[0;34m\u001b[0m\u001b[0m\n\u001b[0m\u001b[1;32m    587\u001b[0m \u001b[0;34m\u001b[0m\u001b[0m\n\u001b[1;32m    588\u001b[0m \u001b[0;34m\u001b[0m\u001b[0m\n",
            "\u001b[0;32m/usr/local/lib/python3.7/dist-packages/pandas/io/parsers/readers.py\u001b[0m in \u001b[0;36m_read\u001b[0;34m(filepath_or_buffer, kwds)\u001b[0m\n\u001b[1;32m    480\u001b[0m \u001b[0;34m\u001b[0m\u001b[0m\n\u001b[1;32m    481\u001b[0m     \u001b[0;31m# Create the parser.\u001b[0m\u001b[0;34m\u001b[0m\u001b[0;34m\u001b[0m\u001b[0;34m\u001b[0m\u001b[0m\n\u001b[0;32m--> 482\u001b[0;31m     \u001b[0mparser\u001b[0m \u001b[0;34m=\u001b[0m \u001b[0mTextFileReader\u001b[0m\u001b[0;34m(\u001b[0m\u001b[0mfilepath_or_buffer\u001b[0m\u001b[0;34m,\u001b[0m \u001b[0;34m**\u001b[0m\u001b[0mkwds\u001b[0m\u001b[0;34m)\u001b[0m\u001b[0;34m\u001b[0m\u001b[0;34m\u001b[0m\u001b[0m\n\u001b[0m\u001b[1;32m    483\u001b[0m \u001b[0;34m\u001b[0m\u001b[0m\n\u001b[1;32m    484\u001b[0m     \u001b[0;32mif\u001b[0m \u001b[0mchunksize\u001b[0m \u001b[0;32mor\u001b[0m \u001b[0miterator\u001b[0m\u001b[0;34m:\u001b[0m\u001b[0;34m\u001b[0m\u001b[0;34m\u001b[0m\u001b[0m\n",
            "\u001b[0;32m/usr/local/lib/python3.7/dist-packages/pandas/io/parsers/readers.py\u001b[0m in \u001b[0;36m__init__\u001b[0;34m(self, f, engine, **kwds)\u001b[0m\n\u001b[1;32m    809\u001b[0m             \u001b[0mself\u001b[0m\u001b[0;34m.\u001b[0m\u001b[0moptions\u001b[0m\u001b[0;34m[\u001b[0m\u001b[0;34m\"has_index_names\"\u001b[0m\u001b[0;34m]\u001b[0m \u001b[0;34m=\u001b[0m \u001b[0mkwds\u001b[0m\u001b[0;34m[\u001b[0m\u001b[0;34m\"has_index_names\"\u001b[0m\u001b[0;34m]\u001b[0m\u001b[0;34m\u001b[0m\u001b[0;34m\u001b[0m\u001b[0m\n\u001b[1;32m    810\u001b[0m \u001b[0;34m\u001b[0m\u001b[0m\n\u001b[0;32m--> 811\u001b[0;31m         \u001b[0mself\u001b[0m\u001b[0;34m.\u001b[0m\u001b[0m_engine\u001b[0m \u001b[0;34m=\u001b[0m \u001b[0mself\u001b[0m\u001b[0;34m.\u001b[0m\u001b[0m_make_engine\u001b[0m\u001b[0;34m(\u001b[0m\u001b[0mself\u001b[0m\u001b[0;34m.\u001b[0m\u001b[0mengine\u001b[0m\u001b[0;34m)\u001b[0m\u001b[0;34m\u001b[0m\u001b[0;34m\u001b[0m\u001b[0m\n\u001b[0m\u001b[1;32m    812\u001b[0m \u001b[0;34m\u001b[0m\u001b[0m\n\u001b[1;32m    813\u001b[0m     \u001b[0;32mdef\u001b[0m \u001b[0mclose\u001b[0m\u001b[0;34m(\u001b[0m\u001b[0mself\u001b[0m\u001b[0;34m)\u001b[0m\u001b[0;34m:\u001b[0m\u001b[0;34m\u001b[0m\u001b[0;34m\u001b[0m\u001b[0m\n",
            "\u001b[0;32m/usr/local/lib/python3.7/dist-packages/pandas/io/parsers/readers.py\u001b[0m in \u001b[0;36m_make_engine\u001b[0;34m(self, engine)\u001b[0m\n\u001b[1;32m   1038\u001b[0m             )\n\u001b[1;32m   1039\u001b[0m         \u001b[0;31m# error: Too many arguments for \"ParserBase\"\u001b[0m\u001b[0;34m\u001b[0m\u001b[0;34m\u001b[0m\u001b[0;34m\u001b[0m\u001b[0m\n\u001b[0;32m-> 1040\u001b[0;31m         \u001b[0;32mreturn\u001b[0m \u001b[0mmapping\u001b[0m\u001b[0;34m[\u001b[0m\u001b[0mengine\u001b[0m\u001b[0;34m]\u001b[0m\u001b[0;34m(\u001b[0m\u001b[0mself\u001b[0m\u001b[0;34m.\u001b[0m\u001b[0mf\u001b[0m\u001b[0;34m,\u001b[0m \u001b[0;34m**\u001b[0m\u001b[0mself\u001b[0m\u001b[0;34m.\u001b[0m\u001b[0moptions\u001b[0m\u001b[0;34m)\u001b[0m  \u001b[0;31m# type: ignore[call-arg]\u001b[0m\u001b[0;34m\u001b[0m\u001b[0;34m\u001b[0m\u001b[0m\n\u001b[0m\u001b[1;32m   1041\u001b[0m \u001b[0;34m\u001b[0m\u001b[0m\n\u001b[1;32m   1042\u001b[0m     \u001b[0;32mdef\u001b[0m \u001b[0m_failover_to_python\u001b[0m\u001b[0;34m(\u001b[0m\u001b[0mself\u001b[0m\u001b[0;34m)\u001b[0m\u001b[0;34m:\u001b[0m\u001b[0;34m\u001b[0m\u001b[0;34m\u001b[0m\u001b[0m\n",
            "\u001b[0;32m/usr/local/lib/python3.7/dist-packages/pandas/io/parsers/c_parser_wrapper.py\u001b[0m in \u001b[0;36m__init__\u001b[0;34m(self, src, **kwds)\u001b[0m\n\u001b[1;32m     49\u001b[0m \u001b[0;34m\u001b[0m\u001b[0m\n\u001b[1;32m     50\u001b[0m         \u001b[0;31m# open handles\u001b[0m\u001b[0;34m\u001b[0m\u001b[0;34m\u001b[0m\u001b[0;34m\u001b[0m\u001b[0m\n\u001b[0;32m---> 51\u001b[0;31m         \u001b[0mself\u001b[0m\u001b[0;34m.\u001b[0m\u001b[0m_open_handles\u001b[0m\u001b[0;34m(\u001b[0m\u001b[0msrc\u001b[0m\u001b[0;34m,\u001b[0m \u001b[0mkwds\u001b[0m\u001b[0;34m)\u001b[0m\u001b[0;34m\u001b[0m\u001b[0;34m\u001b[0m\u001b[0m\n\u001b[0m\u001b[1;32m     52\u001b[0m         \u001b[0;32massert\u001b[0m \u001b[0mself\u001b[0m\u001b[0;34m.\u001b[0m\u001b[0mhandles\u001b[0m \u001b[0;32mis\u001b[0m \u001b[0;32mnot\u001b[0m \u001b[0;32mNone\u001b[0m\u001b[0;34m\u001b[0m\u001b[0;34m\u001b[0m\u001b[0m\n\u001b[1;32m     53\u001b[0m \u001b[0;34m\u001b[0m\u001b[0m\n",
            "\u001b[0;32m/usr/local/lib/python3.7/dist-packages/pandas/io/parsers/base_parser.py\u001b[0m in \u001b[0;36m_open_handles\u001b[0;34m(self, src, kwds)\u001b[0m\n\u001b[1;32m    227\u001b[0m             \u001b[0mmemory_map\u001b[0m\u001b[0;34m=\u001b[0m\u001b[0mkwds\u001b[0m\u001b[0;34m.\u001b[0m\u001b[0mget\u001b[0m\u001b[0;34m(\u001b[0m\u001b[0;34m\"memory_map\"\u001b[0m\u001b[0;34m,\u001b[0m \u001b[0;32mFalse\u001b[0m\u001b[0;34m)\u001b[0m\u001b[0;34m,\u001b[0m\u001b[0;34m\u001b[0m\u001b[0;34m\u001b[0m\u001b[0m\n\u001b[1;32m    228\u001b[0m             \u001b[0mstorage_options\u001b[0m\u001b[0;34m=\u001b[0m\u001b[0mkwds\u001b[0m\u001b[0;34m.\u001b[0m\u001b[0mget\u001b[0m\u001b[0;34m(\u001b[0m\u001b[0;34m\"storage_options\"\u001b[0m\u001b[0;34m,\u001b[0m \u001b[0;32mNone\u001b[0m\u001b[0;34m)\u001b[0m\u001b[0;34m,\u001b[0m\u001b[0;34m\u001b[0m\u001b[0;34m\u001b[0m\u001b[0m\n\u001b[0;32m--> 229\u001b[0;31m             \u001b[0merrors\u001b[0m\u001b[0;34m=\u001b[0m\u001b[0mkwds\u001b[0m\u001b[0;34m.\u001b[0m\u001b[0mget\u001b[0m\u001b[0;34m(\u001b[0m\u001b[0;34m\"encoding_errors\"\u001b[0m\u001b[0;34m,\u001b[0m \u001b[0;34m\"strict\"\u001b[0m\u001b[0;34m)\u001b[0m\u001b[0;34m,\u001b[0m\u001b[0;34m\u001b[0m\u001b[0;34m\u001b[0m\u001b[0m\n\u001b[0m\u001b[1;32m    230\u001b[0m         )\n\u001b[1;32m    231\u001b[0m \u001b[0;34m\u001b[0m\u001b[0m\n",
            "\u001b[0;32m/usr/local/lib/python3.7/dist-packages/pandas/io/common.py\u001b[0m in \u001b[0;36mget_handle\u001b[0;34m(path_or_buf, mode, encoding, compression, memory_map, is_text, errors, storage_options)\u001b[0m\n\u001b[1;32m    705\u001b[0m                 \u001b[0mencoding\u001b[0m\u001b[0;34m=\u001b[0m\u001b[0mioargs\u001b[0m\u001b[0;34m.\u001b[0m\u001b[0mencoding\u001b[0m\u001b[0;34m,\u001b[0m\u001b[0;34m\u001b[0m\u001b[0;34m\u001b[0m\u001b[0m\n\u001b[1;32m    706\u001b[0m                 \u001b[0merrors\u001b[0m\u001b[0;34m=\u001b[0m\u001b[0merrors\u001b[0m\u001b[0;34m,\u001b[0m\u001b[0;34m\u001b[0m\u001b[0;34m\u001b[0m\u001b[0m\n\u001b[0;32m--> 707\u001b[0;31m                 \u001b[0mnewline\u001b[0m\u001b[0;34m=\u001b[0m\u001b[0;34m\"\"\u001b[0m\u001b[0;34m,\u001b[0m\u001b[0;34m\u001b[0m\u001b[0;34m\u001b[0m\u001b[0m\n\u001b[0m\u001b[1;32m    708\u001b[0m             )\n\u001b[1;32m    709\u001b[0m         \u001b[0;32melse\u001b[0m\u001b[0;34m:\u001b[0m\u001b[0;34m\u001b[0m\u001b[0;34m\u001b[0m\u001b[0m\n",
            "\u001b[0;31mFileNotFoundError\u001b[0m: [Errno 2] No such file or directory: 'bankmarketing.csv'"
          ]
        }
      ]
    },
    {
      "cell_type": "code",
      "source": [
        "bank.head()"
      ],
      "metadata": {
        "scrolled": true,
        "_uuid": "cea2534040a66610bfed13e4ce397e5ed955aefb",
        "trusted": true,
        "id": "2O3BLNBEmf5H"
      },
      "execution_count": null,
      "outputs": []
    },
    {
      "cell_type": "code",
      "source": [
        "bank.columns"
      ],
      "metadata": {
        "_uuid": "1487eda6129a086e1fa179f04b33464ad3c02823",
        "id": "7aIi1kNrmf5I"
      },
      "execution_count": null,
      "outputs": []
    },
    {
      "cell_type": "code",
      "source": [
        "# Importing Categorical Columns"
      ],
      "metadata": {
        "_uuid": "f010c18079ee0b6a8191587d852e52600f452fcb",
        "id": "_raypmHhmf5I"
      },
      "execution_count": null,
      "outputs": []
    },
    {
      "cell_type": "code",
      "source": [
        "bank_cust = bank[['age','job', 'marital', 'education', 'default', 'housing', 'loan','contact','month','day_of_week','poutcome']]"
      ],
      "metadata": {
        "_uuid": "0f1e8a85395ada35344c7cbfe17de1a07dac120f",
        "id": "Lg1o7fidmf5J"
      },
      "execution_count": null,
      "outputs": []
    },
    {
      "cell_type": "code",
      "source": [
        "bank_cust.head()"
      ],
      "metadata": {
        "scrolled": true,
        "_uuid": "05619789bcde6b0b49a015207424513796985349",
        "id": "c3Gaik4umf5K"
      },
      "execution_count": null,
      "outputs": []
    },
    {
      "cell_type": "code",
      "source": [
        "# Converting age into categorical variable."
      ],
      "metadata": {
        "_uuid": "cdffce7397fd94b42ee7db883b193d9e0907337f",
        "id": "bo0BTS0-mf5K"
      },
      "execution_count": null,
      "outputs": []
    },
    {
      "cell_type": "code",
      "source": [
        "bank_cust['age_bin'] = pd.cut(bank_cust['age'], [0, 20, 30, 40, 50, 60, 70, 80, 90, 100], \n",
        "                              labels=['0-20', '20-30', '30-40', '40-50','50-60','60-70','70-80', '80-90','90-100'])\n",
        "bank_cust  = bank_cust.drop('age',axis = 1)"
      ],
      "metadata": {
        "_uuid": "8c00589b9a092577fd778738cedf3e05b55e0e5a",
        "id": "a4B0Ok6Imf5L"
      },
      "execution_count": null,
      "outputs": []
    },
    {
      "cell_type": "code",
      "source": [
        "bank_cust.head()"
      ],
      "metadata": {
        "_uuid": "e2970c1f0b2da4895eaba3b4ca4901c7211c90ef",
        "id": "6cSnRehWmf5M"
      },
      "execution_count": null,
      "outputs": []
    },
    {
      "cell_type": "markdown",
      "source": [
        "*italicized text*## [Data Inspection](https://)"
      ],
      "metadata": {
        "_uuid": "c9ae867bf7d7840b678fd8b9e48b98d9ff2b2cec",
        "id": "0ipoy-aimf5N"
      }
    },
    {
      "cell_type": "code",
      "source": [
        "bank_cust.shape"
      ],
      "metadata": {
        "_uuid": "04a0a3735437963962acbda5ea9f2c83b7a21ba0",
        "id": "M-ESF0QOmf5O"
      },
      "execution_count": null,
      "outputs": []
    },
    {
      "cell_type": "code",
      "source": [
        "bank_cust.describe()"
      ],
      "metadata": {
        "_uuid": "749ef20262b63a4c914dcd76e6856da312c30c72",
        "id": "stdxwY5mmf5P"
      },
      "execution_count": null,
      "outputs": []
    },
    {
      "cell_type": "code",
      "source": [
        "bank_cust.info()"
      ],
      "metadata": {
        "_uuid": "35d917ac6d6defe628b2fcf81bf063307017f488",
        "id": "-cro-kXcmf5R"
      },
      "execution_count": null,
      "outputs": []
    },
    {
      "cell_type": "markdown",
      "source": [
        "**bold text**## Data Cleaning"
      ],
      "metadata": {
        "_uuid": "0eeb418899c25f8f23e7aac3213834e6d2753997",
        "id": "rjcT8eT7mf5R"
      }
    },
    {
      "cell_type": "code",
      "source": [
        "# Checking Null values\n",
        "bank_cust.isnull().sum()*100/bank_cust.shape[0]\n",
        "# There are no NULL values in the dataset, hence it is clean."
      ],
      "metadata": {
        "_uuid": "9e0419dd6a38162e99fbb3bf010d3b470bb01a2c",
        "id": "aJ3yWdlemf5S"
      },
      "execution_count": null,
      "outputs": []
    },
    {
      "cell_type": "code",
      "source": [
        "# Data is clean."
      ],
      "metadata": {
        "_uuid": "08e5c126cde2e67441a6a759c1ab084caa1c98bc",
        "id": "m61DKxDqmf5T"
      },
      "execution_count": null,
      "outputs": []
    },
    {
      "cell_type": "markdown",
      "source": [
        "**bold text**### As it is just a demo for K-Modes we will skip EDA and jump straight to model building"
      ],
      "metadata": {
        "_uuid": "747c11d0e38943113995777edb24c67e79591e07",
        "id": "GhS-tA7Bmf5T"
      }
    },
    {
      "cell_type": "markdown",
      "source": [
        "## Model Building"
      ],
      "metadata": {
        "_uuid": "9a7de13b3a211c5cb11e1a035889eb70570377a1",
        "id": "J37lq1uOmf5U"
      }
    },
    {
      "cell_type": "code",
      "source": [
        "# First we will keep a copy of data\n",
        "bank_cust_copy = bank_cust.copy()"
      ],
      "metadata": {
        "_uuid": "cd91b4e3314bfbda1c841cd7ded6b6c8c2828da6",
        "id": "cVFhwckkmf5V"
      },
      "execution_count": null,
      "outputs": []
    },
    {
      "cell_type": "markdown",
      "source": [
        "*italicized text*### Data Preparation"
      ],
      "metadata": {
        "_uuid": "53013889c087c89c172c0c58b37444d0d0b9f8bc",
        "id": "HAmVG2ANmf5W"
      }
    },
    {
      "cell_type": "code",
      "source": [
        "from sklearn import preprocessing\n",
        "le = preprocessing.LabelEncoder()\n",
        "bank_cust = bank_cust.apply(le.fit_transform)\n",
        "bank_cust.head()"
      ],
      "metadata": {
        "_uuid": "2539d945fa7b910fef50c1f43463cb3960ac32d1",
        "id": "jzWJYjS6mf5W"
      },
      "execution_count": null,
      "outputs": []
    },
    {
      "cell_type": "code",
      "source": [
        "# Importing Libraries\n",
        "\n",
        "from kmodes.kmodes import KModes"
      ],
      "metadata": {
        "_uuid": "824527b4d4c0f785eb1ce46308693d0c58174d15",
        "id": "hBRctlipmf5X"
      },
      "execution_count": null,
      "outputs": []
    },
    {
      "cell_type": "code",
      "source": [
        "pip install Kmeans"
      ],
      "metadata": {
        "id": "qWlzioqE1GU6"
      },
      "execution_count": null,
      "outputs": []
    },
    {
      "cell_type": "code",
      "source": [
        "pip install kmodes"
      ],
      "metadata": {
        "id": "AWLCI_8IZYM0"
      },
      "execution_count": null,
      "outputs": []
    },
    {
      "cell_type": "code",
      "source": [
        "pip install kmodes"
      ],
      "metadata": {
        "id": "aC8kPlS3sFla"
      },
      "execution_count": null,
      "outputs": []
    },
    {
      "cell_type": "markdown",
      "source": [
        "## Using K-Mode with \"Cao\" initialization"
      ],
      "metadata": {
        "_uuid": "f3fbc36795418b5dd9b2c92013739cfd35cd0ea1",
        "id": "s_6OqTB3mf5Y"
      }
    },
    {
      "cell_type": "code",
      "source": [
        "km_cao = KModes(n_clusters=2, init = \"Cao\", n_init = 1, verbose=1)\n",
        "fitClusters_cao = km_cao.fit_predict(bank_cust)"
      ],
      "metadata": {
        "_uuid": "a98ddaf776148b26b178e4422c4f3037ad426ac1",
        "id": "WxisZKiwmf5Y"
      },
      "execution_count": null,
      "outputs": []
    },
    {
      "cell_type": "code",
      "source": [
        "# Predicted Clusters\n",
        "fitClusters_cao"
      ],
      "metadata": {
        "_uuid": "63c5eec4f49c8f6fc5327d48be49c3cad3085065",
        "id": "M0ogJOL7mf5Z"
      },
      "execution_count": null,
      "outputs": []
    },
    {
      "cell_type": "code",
      "source": [
        "clusterCentroidsDf = pd.DataFrame(km_cao.cluster_centroids_)\n",
        "clusterCentroidsDf.columns = bank_cust.columns"
      ],
      "metadata": {
        "_uuid": "2cd480692d125cb0be264ad9c0b102fa9e99a2f6",
        "id": "kQmWGD6tmf5Z"
      },
      "execution_count": null,
      "outputs": []
    },
    {
      "cell_type": "code",
      "source": [
        "# Mode of the clusters\n",
        "clusterCentroidsDf"
      ],
      "metadata": {
        "_uuid": "7f362d1ad1deb12927d2603cd424bbff24d4385e",
        "id": "Nb_sLFoumf5a"
      },
      "execution_count": null,
      "outputs": []
    },
    {
      "cell_type": "markdown",
      "source": [
        "## Using K-Mode with \"Huang\" initialization"
      ],
      "metadata": {
        "_uuid": "e56254003d2fe768c60b335db757a253574b207c",
        "id": "hebdO1Zfmf5a"
      }
    },
    {
      "cell_type": "code",
      "source": [
        "km_huang = KModes(n_clusters=2, init = \"Huang\", n_init = 1, verbose=1)\n",
        "fitClusters_huang = km_huang.fit_predict(bank_cust)"
      ],
      "metadata": {
        "_uuid": "ad5cf8287b9498a07e109c5ac21a1b61f5cdfec0",
        "id": "dLJtLL_1mf5b"
      },
      "execution_count": null,
      "outputs": []
    },
    {
      "cell_type": "code",
      "source": [
        "# Predicted clusters\n",
        "fitClusters_huang"
      ],
      "metadata": {
        "_uuid": "309b556a4b7aac156d5618c445b20be9277e8bab",
        "id": "S6wClyiSmf5b"
      },
      "execution_count": null,
      "outputs": []
    },
    {
      "cell_type": "markdown",
      "source": [
        "## Choosing K by comparing Cost against each K"
      ],
      "metadata": {
        "_uuid": "8127bbed8616096c3d7701aa974947baa730874d",
        "id": "Rfe2ugWDmf5c"
      }
    },
    {
      "cell_type": "code",
      "source": [
        "cost = []\n",
        "for num_clusters in list(range(1,5)):\n",
        "    kmode = KModes(n_clusters=num_clusters, init = \"Cao\", n_init = 1, verbose=1)\n",
        "    kmode.fit_predict(bank_cust)\n",
        "    cost.append(kmode.cost_)"
      ],
      "metadata": {
        "_uuid": "0ea999c76181a7a47a3bf4a690c3c5d8a4d53046",
        "id": "gsFfhpwfmf5c"
      },
      "execution_count": null,
      "outputs": []
    },
    {
      "cell_type": "code",
      "source": [
        "y = np.array([i for i in range(1,5,1)])\n",
        "plt.plot(y,cost)"
      ],
      "metadata": {
        "_uuid": "4e66ef79ab380471ed77cf4bdbaa5543e51b4030",
        "id": "cxf_FcC6mf5d"
      },
      "execution_count": null,
      "outputs": []
    },
    {
      "cell_type": "code",
      "source": [
        "## Choosing K=2"
      ],
      "metadata": {
        "_uuid": "8be055e2e9686d61215252b137985d626a31d6d8",
        "id": "Wbz-cG1qmf5d"
      },
      "execution_count": null,
      "outputs": []
    },
    {
      "cell_type": "code",
      "source": [
        "km_cao = KModes(n_clusters=2, init = \"Cao\", n_init = 1, verbose=1)\n",
        "fitClusters_cao = km_cao.fit_predict(bank_cust)"
      ],
      "metadata": {
        "_uuid": "8f87ff2c546cc7475f4b838cf9d6ef992df36aca",
        "id": "rYHgMH9Nmf5e"
      },
      "execution_count": null,
      "outputs": []
    },
    {
      "cell_type": "code",
      "source": [
        "fitClusters_cao"
      ],
      "metadata": {
        "_uuid": "14c2bd78e5158f0398e81208050b309fb9244cb3",
        "id": "LN4MpTaXmf5e"
      },
      "execution_count": null,
      "outputs": []
    },
    {
      "cell_type": "markdown",
      "source": [
        "\n",
        "\n",
        "```\n",
        "# This is formatted as code\n",
        "```\n",
        "\n",
        "### Combining the predicted clusters with the original DF."
      ],
      "metadata": {
        "_uuid": "9d7d7b523ca9affd9162750ebade0943d87d3899",
        "id": "3mUghTbhmf5f"
      }
    },
    {
      "cell_type": "code",
      "source": [
        "bank_cust = bank_cust_copy.reset_index()"
      ],
      "metadata": {
        "_uuid": "35e952ec21c2a8083b868004cf43c4fdecf1e6c2",
        "id": "Y-QojE98mf5f"
      },
      "execution_count": null,
      "outputs": []
    },
    {
      "cell_type": "code",
      "source": [
        "clustersDf = pd.DataFrame(fitClusters_cao)\n",
        "clustersDf.columns = ['cluster_predicted']\n",
        "combinedDf = pd.concat([bank_cust, clustersDf], axis = 1).reset_index()\n",
        "combinedDf = combinedDf.drop(['index', 'level_0'], axis = 1)"
      ],
      "metadata": {
        "_uuid": "66477e01de4ec3e8ee6dbdffce81e0e0fb289dd2",
        "id": "fAzymM1Emf5g"
      },
      "execution_count": null,
      "outputs": []
    },
    {
      "cell_type": "code",
      "source": [
        "combinedDf.head()"
      ],
      "metadata": {
        "scrolled": true,
        "_uuid": "06dfa8746fcdac19d5b9d16bd9605f0f36870588",
        "id": "SvGN7LBcmf5h"
      },
      "execution_count": null,
      "outputs": []
    },
    {
      "cell_type": "markdown",
      "source": [
        "### Cluster Identification"
      ],
      "metadata": {
        "_uuid": "8eeee26933aa1e5d7a7252202251607782674a19",
        "id": "iNMdY4ilmf5h"
      }
    },
    {
      "cell_type": "code",
      "source": [
        "cluster_0 = combinedDf[combinedDf['cluster_predicted'] == 0]\n",
        "cluster_1 = combinedDf[combinedDf['cluster_predicted'] == 1]"
      ],
      "metadata": {
        "_uuid": "1c1ddfe8fc35738b85aa4d99e95cbcf9b49cee58",
        "id": "7tFiaJFVmf5i"
      },
      "execution_count": null,
      "outputs": []
    },
    {
      "cell_type": "code",
      "source": [
        "cluster_0.info()"
      ],
      "metadata": {
        "_uuid": "25ca3e4677f901878d1f50bf3935559a7fbc2f77",
        "id": "FO_M72vGmf5i"
      },
      "execution_count": null,
      "outputs": []
    },
    {
      "cell_type": "code",
      "source": [
        "cluster_1.info()"
      ],
      "metadata": {
        "_uuid": "3233a773cc0d2d70d028398623433635528da67a",
        "id": "AtzOF-fSmf5j"
      },
      "execution_count": null,
      "outputs": []
    },
    {
      "cell_type": "code",
      "source": [
        "# Job"
      ],
      "metadata": {
        "_uuid": "493ed3f106d67a33c5a5714892aa29fd19c6c167",
        "id": "nlxdz-ubmf5k"
      },
      "execution_count": null,
      "outputs": []
    },
    {
      "cell_type": "code",
      "source": [
        "plt.subplots(figsize = (15,5))\n",
        "sns.countplot(x=combinedDf['job'],order=combinedDf['job'].value_counts().index,hue=combinedDf['cluster_predicted'])\n",
        "plt.show()"
      ],
      "metadata": {
        "_uuid": "2e7216ccc83de54a6329ada68b633ab19b791f5b",
        "id": "EqRrakz_mf5k"
      },
      "execution_count": null,
      "outputs": []
    },
    {
      "cell_type": "code",
      "source": [
        "# Marital"
      ],
      "metadata": {
        "_uuid": "91394e7f5207640aae79c888532323f4f16bb750",
        "id": "lsrhtl0wmf5l"
      },
      "execution_count": null,
      "outputs": []
    },
    {
      "cell_type": "code",
      "source": [
        "plt.subplots(figsize = (5,5))\n",
        "sns.countplot(x=combinedDf['marital'],order=combinedDf['marital'].value_counts().index,hue=combinedDf['cluster_predicted'])\n",
        "plt.show()"
      ],
      "metadata": {
        "_uuid": "af4dd8c78b23e2bae2be67641232df74b14b9f2e",
        "id": "iYKHRWGjmf5m"
      },
      "execution_count": null,
      "outputs": []
    },
    {
      "cell_type": "code",
      "source": [
        "# Education"
      ],
      "metadata": {
        "_uuid": "941e5c25d6e9c05db02807590c218c57f29a4430",
        "id": "abmaru-6mf5n"
      },
      "execution_count": null,
      "outputs": []
    },
    {
      "cell_type": "code",
      "source": [
        "plt.subplots(figsize = (15,5))\n",
        "sns.countplot(x=combinedDf['education'],order=combinedDf['education'].value_counts().index,hue=combinedDf['cluster_predicted'])\n",
        "plt.show()"
      ],
      "metadata": {
        "_uuid": "043c9a570d4a4a7165ed3f914571ecf74dee2b1b",
        "id": "thKcMeknmf5n"
      },
      "execution_count": null,
      "outputs": []
    },
    {
      "cell_type": "code",
      "source": [
        "# Default"
      ],
      "metadata": {
        "_uuid": "2ab53f4153116a44af4bde6b93aaa65ebd8f8c1e",
        "id": "6QXkKW8omf5o"
      },
      "execution_count": null,
      "outputs": []
    },
    {
      "cell_type": "code",
      "source": [
        "f, axs = plt.subplots(1,3,figsize = (15,5))\n",
        "sns.countplot(x=combinedDf['default'],order=combinedDf['default'].value_counts().index,hue=combinedDf['cluster_predicted'],ax=axs[0])\n",
        "sns.countplot(x=combinedDf['housing'],order=combinedDf['housing'].value_counts().index,hue=combinedDf['cluster_predicted'],ax=axs[1])\n",
        "sns.countplot(x=combinedDf['loan'],order=combinedDf['loan'].value_counts().index,hue=combinedDf['cluster_predicted'],ax=axs[2])\n",
        "\n",
        "plt.tight_layout()\n",
        "plt.show()"
      ],
      "metadata": {
        "_uuid": "8e1511a6a0e120fd4ded1336333d21cc431e76b4",
        "id": "oddwXNgYmf5o"
      },
      "execution_count": null,
      "outputs": []
    },
    {
      "cell_type": "code",
      "source": [
        "f, axs = plt.subplots(1,2,figsize = (15,5))\n",
        "sns.countplot(x=combinedDf['month'],order=combinedDf['month'].value_counts().index,hue=combinedDf['cluster_predicted'],ax=axs[0])\n",
        "sns.countplot(x=combinedDf['day_of_week'],order=combinedDf['day_of_week'].value_counts().index,hue=combinedDf['cluster_predicted'],ax=axs[1])\n",
        "\n",
        "plt.tight_layout()\n",
        "plt.show()"
      ],
      "metadata": {
        "_uuid": "7d31c897575232c8971a3a948f4325d37d22441b",
        "id": "DaSVPEqhmf5p"
      },
      "execution_count": null,
      "outputs": []
    },
    {
      "cell_type": "code",
      "source": [
        "f, axs = plt.subplots(1,2,figsize = (15,5))\n",
        "sns.countplot(x=combinedDf['poutcome'],order=combinedDf['poutcome'].value_counts().index,hue=combinedDf['cluster_predicted'],ax=axs[0])\n",
        "sns.countplot(x=combinedDf['age_bin'],order=combinedDf['age_bin'].value_counts().index,hue=combinedDf['cluster_predicted'],ax=axs[1])\n",
        "\n",
        "plt.tight_layout()\n",
        "plt.show()"
      ],
      "metadata": {
        "_uuid": "130e9c508ca0297c4e0169571ef049a503b87dac",
        "id": "ztEa0le0mf5p"
      },
      "execution_count": null,
      "outputs": []
    },
    {
      "cell_type": "code",
      "source": [
        "# Above visualization can help in identification of clusters."
      ],
      "metadata": {
        "_uuid": "6d0a1ecd5e42035c186ffe33243b0e2317135915",
        "id": "liT4v9O_mf5q"
      },
      "execution_count": null,
      "outputs": []
    }
  ]
}